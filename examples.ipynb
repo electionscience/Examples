{
 "cells": [
  {
   "cell_type": "markdown",
   "metadata": {},
   "source": [
    "# Proportional Score Voting\n",
    "\n",
    "Also called Reweighted Range Voting"
   ]
  },
  {
   "cell_type": "code",
   "execution_count": 88,
   "metadata": {},
   "outputs": [
    {
     "name": "stdout",
     "output_type": "stream",
     "text": [
      "Red       18.0\n",
      "Green     10.0\n",
      "Yellow    14.0\n",
      "Blue      18.0\n",
      "dtype: float64\n",
      "['Red']\n",
      "Red       10.000000\n",
      "Green      9.166667\n",
      "Yellow    11.500000\n",
      "Blue      10.833333\n",
      "dtype: float64\n",
      "['Red', 'Yellow']\n",
      "Red       8.881410\n",
      "Green     8.500000\n",
      "Yellow    6.903846\n",
      "Blue      9.256410\n",
      "dtype: float64\n",
      "['Red', 'Yellow', 'Blue']\n",
      "Red       6.684219\n",
      "Green     7.078755\n",
      "Yellow    6.121795\n",
      "Blue      6.947497\n",
      "dtype: float64\n",
      "['Red', 'Yellow', 'Blue', 'Green']\n"
     ]
    }
   ],
   "source": [
    "import pandas\n",
    "\n",
    "ballots = [\n",
    "  {\"Red\": 5, \"Green\": 0, \"Yellow\": 3, \"Blue\": 5},\n",
    "  {\"Red\": 5, \"Green\": 0, \"Yellow\": 0, \"Blue\": 4},\n",
    "  {\"Red\": 0, \"Green\": 5, \"Yellow\": 0, \"Blue\": 1},\n",
    "  {\"Red\": 1, \"Green\": 2, \"Yellow\": 4, \"Blue\": 3}, \n",
    "  {\"Red\": 1, \"Green\": 0, \"Yellow\": 2, \"Blue\": 0},  \n",
    "  {\"Red\": 1, \"Green\": 3, \"Yellow\": 0, \"Blue\": 1},\n",
    "  {\"Red\": 0, \"Green\": 0, \"Yellow\": 5, \"Blue\": 0},\n",
    "  {\"Red\": 5, \"Green\": 0, \"Yellow\": 0, \"Blue\": 4},\n",
    "]\n",
    "\n",
    "seats = 4\n",
    "seated = []\n",
    "max_score = max(max(ballot.values()) for ballot in ballots)\n",
    "\n",
    "def reweight(ballot):\n",
    "  seated_scores = [\n",
    "      ballot[candidate] for candidate in ballot if candidate in seated\n",
    "  ]\n",
    "  weight = 1/(1+sum(seated_scores)/max_score)\n",
    "  return {candidate: weight*ballot[candidate] for candidate in ballot}\n",
    "\n",
    "def nextRound(ballots):\n",
    "  reweightedBallots = [reweight(ballot) for ballot in ballots] \n",
    "  winner = pandas.DataFrame(reweightedBallots).sum().drop(seated).idxmax()\n",
    "  print(pandas.DataFrame(reweightedBallots).sum())\n",
    "  seated.append(winner)\n",
    "  return reweightedBallots\n",
    "\n",
    "while len(seated) < seats:\n",
    "  nextRound(ballots)\n",
    "  print(seated)\n"
   ]
  },
  {
   "cell_type": "markdown",
   "metadata": {},
   "source": [
    "# Sequential Proportional Approval Voting\n",
    "\n",
    "This is functionally equivalent to Proportional Score Voting, just max_score is 1."
   ]
  },
  {
   "cell_type": "code",
   "execution_count": 89,
   "metadata": {},
   "outputs": [
    {
     "name": "stdout",
     "output_type": "stream",
     "text": [
      "Red       6.0\n",
      "Green     4.0\n",
      "Yellow    3.0\n",
      "Blue      8.0\n",
      "dtype: float64\n",
      "Winners: ['Blue']\n",
      "Red       3.5\n",
      "Green     2.0\n",
      "Yellow    2.0\n",
      "Blue      4.0\n",
      "dtype: float64\n",
      "Winners: ['Blue', 'Red']\n",
      "Red       2.166667\n",
      "Green     1.833333\n",
      "Yellow    1.166667\n",
      "Blue      3.166667\n",
      "dtype: float64\n",
      "Winners: ['Blue', 'Red', 'Green']\n",
      "Red       2.083333\n",
      "Green     1.250000\n",
      "Yellow    1.166667\n",
      "Blue      2.583333\n",
      "dtype: float64\n",
      "Winners: ['Blue', 'Red', 'Green', 'Yellow']\n"
     ]
    }
   ],
   "source": [
    "import pandas\n",
    "\n",
    "ballots = [\n",
    "    {\"Red\": 1, \"Green\": 0, \"Yellow\": 0, \"Blue\": 1},\n",
    "    {\"Red\": 0, \"Green\": 1, \"Yellow\": 0, \"Blue\": 1},\n",
    "    {\"Red\": 1, \"Green\": 0, \"Yellow\": 1, \"Blue\": 0},\n",
    "    {\"Red\": 1, \"Green\": 0, \"Yellow\": 1, \"Blue\": 1},\n",
    "    {\"Red\": 0, \"Green\": 1, \"Yellow\": 0, \"Blue\": 1},\n",
    "    {\"Red\": 1, \"Green\": 0, \"Yellow\": 1, \"Blue\": 1},\n",
    "    {\"Red\": 1, \"Green\": 1, \"Yellow\": 0, \"Blue\": 1},\n",
    "    {\"Red\": 0, \"Green\": 1, \"Yellow\": 0, \"Blue\": 1},\n",
    "    {\"Red\": 1, \"Green\": 0, \"Yellow\": 0, \"Blue\": 1},\n",
    "]\n",
    "\n",
    "SEATS = 4\n",
    "\n",
    "seated = []\n",
    "max_score = max(max(ballot.values())\n",
    "                for ballot in ballots)  # 1 for Approval Voting\n",
    "\n",
    "\n",
    "def reweight(ballot):\n",
    "    seated_scores = [\n",
    "        ballot[candidate] for candidate in ballot if candidate in seated\n",
    "    ]\n",
    "    weight = 1/(1+sum(seated_scores)/max_score)\n",
    "    return {candidate: weight*ballot[candidate] for candidate in ballot}\n",
    "\n",
    "\n",
    "def nextRound(ballots):\n",
    "    reweighted_ballots = [reweight(ballot) for ballot in ballots]\n",
    "    winner = pandas.DataFrame(reweighted_ballots).sum().drop(seated).idxmax()\n",
    "    print(pandas.DataFrame(reweighted_ballots).sum())\n",
    "    seated.append(winner)\n",
    "    return reweighted_ballots\n",
    "\n",
    "\n",
    "while len(seated) < SEATS:\n",
    "    nextRound(ballots)\n",
    "    print(f\"Winners: {seated}\")\n"
   ]
  },
  {
   "cell_type": "code",
   "execution_count": 90,
   "metadata": {},
   "outputs": [
    {
     "name": "stdout",
     "output_type": "stream",
     "text": [
      "Red       6\n",
      "Green     4\n",
      "Yellow    3\n",
      "Blue      8\n",
      "dtype: int64\n",
      "Blue wins\n"
     ]
    }
   ],
   "source": [
    "import pandas\n",
    "\n",
    "ballots = [\n",
    "  {\"Red\": 1, \"Green\": 0, \"Yellow\": 0, \"Blue\": 1},\n",
    "  {\"Red\": 0, \"Green\": 1, \"Yellow\": 0, \"Blue\": 1},\n",
    "  {\"Red\": 1, \"Green\": 0, \"Yellow\": 1, \"Blue\": 0}, \n",
    "  {\"Red\": 1, \"Green\": 0, \"Yellow\": 1, \"Blue\": 1},\n",
    "  {\"Red\": 0, \"Green\": 1, \"Yellow\": 0, \"Blue\": 1},\n",
    "  {\"Red\": 1, \"Green\": 0, \"Yellow\": 1, \"Blue\": 1},  \n",
    "  {\"Red\": 1, \"Green\": 1, \"Yellow\": 0, \"Blue\": 1},\n",
    "  {\"Red\": 0, \"Green\": 1, \"Yellow\": 0, \"Blue\": 1},\n",
    "  {\"Red\": 1, \"Green\": 0, \"Yellow\": 0, \"Blue\": 1},\n",
    "]\n",
    "print(pandas.DataFrame(ballots).sum())\n",
    "print(f\"{pandas.DataFrame(ballots).sum().idxmax()} wins\")\n"
   ]
  },
  {
   "cell_type": "code",
   "execution_count": 91,
   "metadata": {},
   "outputs": [
    {
     "name": "stdout",
     "output_type": "stream",
     "text": [
      "Red       3\n",
      "Yellow    3\n",
      "Green     2\n",
      "dtype: int64\n",
      "eliminated ='Green'\n",
      "Red       4\n",
      "Yellow    3\n",
      "Blue      1\n",
      "dtype: int64\n",
      "eliminated ='Blue'\n",
      "Red       5\n",
      "Yellow    3\n",
      "dtype: int64\n",
      "eliminated ='Yellow'\n"
     ]
    },
    {
     "data": {
      "text/plain": [
       "'Winner: Red'"
      ]
     },
     "execution_count": 91,
     "metadata": {},
     "output_type": "execute_result"
    }
   ],
   "source": [
    "# Instant Runoff Voting\n",
    "import pandas\n",
    "\n",
    "# Ranking a scored ballot because ranked ballots are bad, and annoying to compose.\n",
    "ballots = [\n",
    "  {\"Red\": 5, \"Green\": 0, \"Yellow\": 3, \"Blue\": 4},\n",
    "  {\"Red\": 5, \"Green\": 0, \"Yellow\": 1, \"Blue\": 4},\n",
    "  {\"Red\": 0, \"Green\": 5, \"Yellow\": 0, \"Blue\": 1},\n",
    "  {\"Red\": 1, \"Green\": 2, \"Yellow\": 4, \"Blue\": 3}, \n",
    "  {\"Red\": 1, \"Green\": 0, \"Yellow\": 2, \"Blue\": 0},  \n",
    "  {\"Red\": 1, \"Green\": 3, \"Yellow\": 0, \"Blue\": 1},\n",
    "  {\"Red\": 0, \"Green\": 0, \"Yellow\": 5, \"Blue\": 0},\n",
    "  {\"Red\": 5, \"Green\": 0, \"Yellow\": 0, \"Blue\": 4},\n",
    "]\n",
    "\n",
    "ballots = pandas.DataFrame(ballots)\n",
    "\n",
    "def nextRound(ballots):\n",
    "    # get highest rated candidate from each row, count the number of times it occurs\n",
    "    round_count = pandas.DataFrame(ballots).apply(lambda x: x.idxmax(), axis=1).value_counts()\n",
    "    print(round_count)\n",
    "    # find the lowest count\n",
    "    eliminated = round_count.idxmin()\n",
    "    print(f\"{eliminated =}\")\n",
    "    # remove the eliminated candidates from the ballots\n",
    "    ballots.drop(eliminated, axis=1, inplace=True)\n",
    "    return ballots\n",
    "\n",
    "while len(ballots.columns) > 1:\n",
    "    nextRound(ballots)\n",
    "f'Winner: {ballots.columns[0]}'\n"
   ]
  },
  {
   "cell_type": "code",
   "execution_count": 92,
   "metadata": {},
   "outputs": [],
   "source": [
    "# Single Transferrable Vote\n",
    "import pandas\n",
    "\n",
    "# Ranking a scored ballot because ranked ballots are bad, and annoying to compose.\n",
    "ballots = [\n",
    "  {\"Red\": 5, \"Green\": 0, \"Yellow\": 3, \"Blue\": 4},\n",
    "  {\"Red\": 5, \"Green\": 0, \"Yellow\": 1, \"Blue\": 4},\n",
    "  {\"Red\": 0, \"Green\": 5, \"Yellow\": 0, \"Blue\": 1},\n",
    "  {\"Red\": 1, \"Green\": 2, \"Yellow\": 4, \"Blue\": 3}, \n",
    "  {\"Red\": 1, \"Green\": 0, \"Yellow\": 2, \"Blue\": 0},  \n",
    "  {\"Red\": 1, \"Green\": 3, \"Yellow\": 0, \"Blue\": 1},\n",
    "  {\"Red\": 0, \"Green\": 0, \"Yellow\": 5, \"Blue\": 0},\n",
    "  {\"Red\": 5, \"Green\": 0, \"Yellow\": 0, \"Blue\": 4},\n",
    "]\n",
    "\n",
    "seats = 3\n",
    "ballots = pandas.DataFrame(ballots)\n",
    "quota = len(ballots) / (seats + 1) \n",
    "seated = []\n",
    "\n",
    "# def nextRound(ballots):\n",
    "#     # get highest rated candidate from each row, count the number of times it occurs\n",
    "#     round_count = pandas.DataFrame(ballots).apply(lambda x: x.idxmax(), axis=1).value_counts()\n",
    "#     print(round_count)\n",
    "#     # find if any candidate has more than quota\n",
    "#     print(quota, seated)\n",
    "#     print(round_count[round_count > quota].index)\n",
    "#     seated.append(round_count[round_count > quota].index)\n",
    "\n",
    "#     # find the lowest count\n",
    "#     eliminated = round_count.idxmin()\n",
    "#     print(f\"{eliminated =}\")\n",
    "#     # remove the eliminated candidates from the ballots\n",
    "#     ballots.drop(eliminated, axis=1, inplace=True)\n",
    "#     return ballots\n",
    "\n",
    "# while len(ballots.columns) > 1:\n",
    "#     nextRound(ballots)\n",
    "# f'Winner: {ballots.columns[0]}'\n"
   ]
  }
 ],
 "metadata": {
  "kernelspec": {
   "display_name": "Python 3 (ipykernel)",
   "language": "python",
   "name": "python3"
  },
  "language_info": {
   "codemirror_mode": {
    "name": "ipython",
    "version": 3
   },
   "file_extension": ".py",
   "mimetype": "text/x-python",
   "name": "python",
   "nbconvert_exporter": "python",
   "pygments_lexer": "ipython3",
   "version": "3.9.12"
  },
  "orig_nbformat": 4
 },
 "nbformat": 4,
 "nbformat_minor": 2
}
