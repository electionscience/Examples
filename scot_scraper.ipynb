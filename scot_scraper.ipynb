{
 "cells": [
  {
   "cell_type": "code",
   "execution_count": null,
   "metadata": {},
   "outputs": [],
   "source": [
    "from bs4 import BeautifulSoup\n",
    "import pandas as pd\n",
    "import requests\n",
    "import re\n",
    "import time"
   ]
  },
  {
   "cell_type": "code",
   "execution_count": null,
   "metadata": {},
   "outputs": [],
   "source": [
    "def make_soup(url: str) -> BeautifulSoup:\n",
    "    headers = {\n",
    "        \"User-Agent\": \"Mozilla/5.0 (Windows NT 10.0; Win64; x64) AppleWebKit/537.36 (KHTML, like Gecko) Chrome/93.0.4577.82 Safari/537.36\"\n",
    "    }\n",
    "\n",
    "    # headers = headers, proxies = proxies ?\n",
    "    source_code = requests.get(url, headers=headers, allow_redirects=True)\n",
    "    if source_code.status_code == 503:\n",
    "        print(\"blocked again...\")\n",
    "        assert False\n",
    "\n",
    "    plain_text = source_code.text.encode(\"ascii\", \"replace\")\n",
    "    return BeautifulSoup(plain_text, \"html.parser\")"
   ]
  },
  {
   "cell_type": "code",
   "execution_count": null,
   "metadata": {},
   "outputs": [],
   "source": [
    "URL = \"https://www.andrewteale.me.uk/\"\n",
    "\n",
    "soup = make_soup(\"https://www.andrewteale.me.uk/leap/elections-index/\")\n",
    "\n",
    "all_links = []\n",
    "for link in soup.find_all(\"a\", {\"href\": re.compile(r\"/results/\")}):\n",
    "    all_links.append(link[\"href\"])"
   ]
  },
  {
   "cell_type": "code",
   "execution_count": null,
   "metadata": {},
   "outputs": [],
   "source": [
    "for link in all_links:\n",
    "    soup = make_soup(URL + link)\n",
    "\n",
    "    x = soup.find(lambda tag: tag.name == \"a\" and \"STV\" in tag.text)\n",
    "    if not x:\n",
    "        continue\n",
    "\n",
    "    v = x[\"href\"].strip()\n",
    "    zipfile = URL + v\n",
    "\n",
    "    name = v.split(\"/\")\n",
    "    name = name[1] + \"_\" + name[2]\n",
    "\n",
    "    r = requests.get(zipfile)\n",
    "    with open(\"scraped/\" + name, \"wb\") as f:\n",
    "        f.write(r.content)\n",
    "\n",
    "    time.sleep(1)"
   ]
  }
 ],
 "metadata": {
  "interpreter": {
   "hash": "7e8513dc029dfc8c1594b9f4382abd4b76a7a6202cfd6f06fdee89395dff7a62"
  },
  "kernelspec": {
   "display_name": "Python 3.9.1 64-bit",
   "language": "python",
   "name": "python3"
  },
  "language_info": {
   "codemirror_mode": {
    "name": "ipython",
    "version": 3
   },
   "file_extension": ".py",
   "mimetype": "text/x-python",
   "name": "python",
   "nbconvert_exporter": "python",
   "pygments_lexer": "ipython3",
   "version": "3.9.1"
  },
  "orig_nbformat": 4
 },
 "nbformat": 4,
 "nbformat_minor": 2
}
