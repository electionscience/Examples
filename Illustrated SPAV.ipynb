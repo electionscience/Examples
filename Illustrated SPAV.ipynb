{
 "cells": [
  {
   "cell_type": "markdown",
   "metadata": {},
   "source": [
    "# Illustrated Sequential Proportional Approval Voting"
   ]
  },
  {
   "cell_type": "markdown",
   "metadata": {},
   "source": [
    "Plantsville is getting ready for a city council election, and this year they’ve switched to Proportional Representation.\n",
    "\n",
    "Last year plantsville had an “at large” election, but Fruit didn’t get any representation, despite being one third of the population! \n",
    "That’s because while Vegetables are two thirds of the population, each vegetable candidate had more votes than every fruit candidate, so the board is all vegetables! \n",
    "\n",
    "> Show a council filled with vegetables, with fruit voters upset off to the side.\n",
    "\n",
    "This year Plantsville is moving to Proportional Approval Voting. \n",
    "Proportional voting means each group of voters receives their fair share of seats on the city council. \n",
    "\n",
    "Here’s how Proportional Approval Voting works:\n",
    "\n",
    "> Show three seats and six candidates. Two parties, fruit 🍉 , vegetables 🥦. Candidates: Squash, Potato, Broccoli, Blueberry, Strawberry, Banana\n",
    "\n",
    "When you vote, voters pick all the candidates they approve. \n",
    "\n",
    "> Show existing Approval Voting Ballot explainer from previous Plantsville Video\n",
    "\n",
    "The votes are in, and Broccoli has the most votes, and wins the first seat on the council. \n",
    "\n",
    "> Bar graph of votes with candidate image under it, on left is Broccoli who has the most votes. Broccoli will move up into the seats on top, and a shadow of their votes is left behind. \n",
    "\n",
    "The voters for Broccoli now have representation on the board. For the next round, voters with less representation have their weight relatively increased. For the second seat, all the voters who didn’t vote for Broccoli now have twice as much voting power relative to voters for Broccoli, to ensure that they get a fair chance to elect a candidate. \n",
    "\n",
    "> Show a transition from Round 1 to Round 2 vote counts, with a video game effect of the votes going from the bar to Broccoli like she's \"winning\" points and getting elected, but it consumes votes. The votes for the Vegetables shrink until it becomes equal to Round 2's image. On \"The votes are recalculated\" re-sort the graph so that Blueberry is the first because she has the most votes.\n",
    "\n",
    "The votes are recalculated, and Blueberry wins the second seat, and blueberry voters also have their voting power adjusted. \n",
    "The process continues until all seats are filled. \n",
    "\n",
    "Now every group has fair representation, and democracy is restored.\n",
    "\n",
    "> Endcard. \n",
    "\n",
    "Learn more about proportional approval voting, and the center for election science at our website, electionscience.org\n",
    "\n"
   ]
  },
  {
   "cell_type": "code",
   "execution_count": 419,
   "metadata": {},
   "outputs": [],
   "source": [
    "import itertools\n",
    "import pandas\n",
    "\n",
    "# Compose Ballots\n",
    "candidates = ['Squash', 'Potato',  'Broccoli', 'Blueberry', 'Strawberry', 'Banana']\n",
    "\n",
    "ballot1 = {candidates[0]: 1, candidates[1]: 1, candidates[2]: 1, candidates[3]: 0, candidates[4]: 0, candidates[5]: 0}\n",
    "ballot2 = {candidates[0]: 0, candidates[1]: 1, candidates[2]: 1, candidates[3]: 0, candidates[4]: 0, candidates[5]: 0}\n",
    "ballot3 = {candidates[0]: 1, candidates[1]: 1, candidates[2]: 1, candidates[3]: 1, candidates[4]: 0, candidates[5]: 0}\n",
    "ballot4 = {candidates[0]: 0, candidates[1]: 0, candidates[2]: 0, candidates[3]: 1, candidates[4]: 1, candidates[5]: 1}\n",
    "ballot5 = {candidates[0]: 0, candidates[1]: 0, candidates[2]: 1, candidates[3]: 1, candidates[4]: 1, candidates[5]: 1}\n",
    "ballot6 = {candidates[0]: 0, candidates[1]: 0, candidates[2]: 0, candidates[3]: 1, candidates[4]: 1, candidates[5]: 0}\n",
    "\n",
    "# ballot_proportion = {ballot1: 112, ballot2: 6,\n",
    "#  ballot3: 4, ballot4: 73, ballot5: 4, ballot6: 1}\n",
    "\n",
    "ballots = list(itertools.repeat(ballot1, 112)) + \\\n",
    "    list(itertools.repeat(ballot2, 6)) + \\\n",
    "    list(itertools.repeat(ballot3, 4)) + \\\n",
    "    list(itertools.repeat(ballot4, 73)) + \\\n",
    "    list(itertools.repeat(ballot5, 4)) + \\\n",
    "    list(itertools.repeat(ballot6, 1))\n",
    "ballots = pandas.DataFrame(ballots)\n"
   ]
  },
  {
   "cell_type": "code",
   "execution_count": 420,
   "metadata": {},
   "outputs": [
    {
     "data": {
      "text/plain": [
       "['Broccoli', 'Potato', 'Squash']"
      ]
     },
     "execution_count": 420,
     "metadata": {},
     "output_type": "execute_result"
    }
   ],
   "source": [
    "# At Large Winners\n",
    "at_large_winners = ballots.sum().nlargest(3).index.to_list()\n",
    "at_large_winners"
   ]
  },
  {
   "cell_type": "code",
   "execution_count": 421,
   "metadata": {},
   "outputs": [],
   "source": [
    "\n",
    "# Code and setup.\n",
    "\n",
    "seats = 3\n",
    "elected = []\n",
    "max_satisfaction = ballots.values.max()\n",
    "round_number = 1\n",
    "\n",
    "\n",
    "def plot_round_count(ballots):\n",
    "    return ballots.sum().sort_values(ascending=False).plot(kind='bar', linewidth=1, ylim=(0, len(ballots)),\n",
    "                              xlabel='Candidate', ylabel='Votes', title=f'Round {round_number} Count')\n",
    "\n",
    "\n",
    "def reweight(ballot: pandas.DataFrame) -> pandas.DataFrame:\n",
    "    satisfaction = ballot[ballot.index.isin(elected)].sum()\n",
    "    weight = 1/(1+satisfaction/max_satisfaction)\n",
    "    return ballot.apply(lambda x: weight*x)\n",
    "\n",
    "\n",
    "def nextRound(ballots):\n",
    "    global round_number\n",
    "    round_number = round_number + 1\n",
    "    reweighted = ballots.apply(reweight, axis=1)\n",
    "    round_count = reweighted.sum().drop(\n",
    "        elected, errors='ignore').sort_values(ascending=False)\n",
    "    elected.append(round_count.idxmax())\n",
    "    return reweighted, round_count\n"
   ]
  },
  {
   "cell_type": "markdown",
   "metadata": {},
   "source": [
    "# Round 1\n",
    "\n",
    "In round one we only need to count the candidate with the highest votes and then seat that them. In this case it's Blueberry."
   ]
  },
  {
   "cell_type": "code",
   "execution_count": 422,
   "metadata": {},
   "outputs": [
    {
     "name": "stdout",
     "output_type": "stream",
     "text": [
      "Broccoli      126.0\n",
      "Potato        122.0\n",
      "Squash        116.0\n",
      "Blueberry      82.0\n",
      "Strawberry     78.0\n",
      "Banana         77.0\n",
      "dtype: float64\n",
      "Elected: ['Broccoli']\n"
     ]
    },
    {
     "data": {
      "image/png": "[encoded data removed]",
      "text/plain": [
       "<Figure size 432x288 with 1 Axes>"
      ]
     },
     "metadata": {
      "needs_background": "light"
     },
     "output_type": "display_data"
    }
   ],
   "source": [
    "plot_round_count(ballots.apply(reweight, axis=1).drop(elected, axis=1))\n",
    "ballots, round_count = nextRound(ballots)\n",
    "print(round_count)\n",
    "print(f\"Elected: {elected }\")\n"
   ]
  },
  {
   "cell_type": "markdown",
   "metadata": {},
   "source": [
    "# Round 2\n",
    "\n",
    "In round two we reweight the ballots. The biggest group of voters voted in support of Broccoli, Potato and Squash. Now that Broccoli is seated, these voters have $ 1 $ representative. Because they are represented, their votes for other candidates is reduced by the forumula $\\frac{1}{(1+\\frac{representation}{1})}$ which is $\\frac{1}{(1+\\frac{1}{1})}$ equal to $\\frac{1}{2}$. Their votes for Squash and Potato are now each worth $\\frac{1}{2}$."
   ]
  },
  {
   "cell_type": "code",
   "execution_count": 423,
   "metadata": {},
   "outputs": [
    {
     "name": "stdout",
     "output_type": "stream",
     "text": [
      "Blueberry     78.0\n",
      "Strawberry    76.0\n",
      "Banana        75.0\n",
      "Potato        61.0\n",
      "Squash        58.0\n",
      "dtype: float64\n",
      "Elected: ['Broccoli', 'Blueberry']\n"
     ]
    },
    {
     "data": {
      "image/png": "[encoded data removed]",
      "text/plain": [
       "<Figure size 432x288 with 1 Axes>"
      ]
     },
     "metadata": {
      "needs_background": "light"
     },
     "output_type": "display_data"
    }
   ],
   "source": [
    "plot_round_count(ballots.apply(reweight, axis=1).drop(elected, axis=1))\n",
    "ballots, round_count = nextRound(ballots)\n",
    "print(round_count)\n",
    "print(f\"Elected: {elected }\")\n"
   ]
  },
  {
   "cell_type": "markdown",
   "metadata": {},
   "source": [
    "Because a lot of votes for Strawberry were correlated with vote for Broccoli, Potato, despite being in 2nd place in Round 1, doesn't have the highest score in Round 2. Blueberry has the highest score, and is elected."
   ]
  },
  {
   "cell_type": "markdown",
   "metadata": {},
   "source": [
    "# Round 3\n",
    "\n",
    "In round 3 the votes for fruit candidates are reweighted and Vegetable candidates are able to get another seat. Vegetable candidates have $ \\frac{2}{3} $ of the population, and how have \\frac{2}{3} of the Plantsville City Council Seats. Fruit voters are happy now that they have fair representation on the city council, and democracy is restored."
   ]
  },
  {
   "cell_type": "code",
   "execution_count": 424,
   "metadata": {},
   "outputs": [
    {
     "name": "stdout",
     "output_type": "stream",
     "text": [
      "Potato        40.333333\n",
      "Squash        38.333333\n",
      "Strawberry    38.000000\n",
      "Banana        37.500000\n",
      "dtype: float64\n",
      "Elected: ['Broccoli', 'Blueberry', 'Potato']\n"
     ]
    },
    {
     "data": {
      "image/png": "[encoded data removed]",
      "text/plain": [
       "<Figure size 432x288 with 1 Axes>"
      ]
     },
     "metadata": {
      "needs_background": "light"
     },
     "output_type": "display_data"
    }
   ],
   "source": [
    "plot_round_count(ballots.apply(reweight, axis=1).drop(elected, axis=1))\n",
    "ballots, round_count = nextRound(ballots)\n",
    "print(round_count)\n",
    "print(f\"Elected: {elected }\")\n"
   ]
  }
 ],
 "metadata": {
  "interpreter": {
   "hash": "aee8b7b246df8f9039afb4144a1f6fd8d2ca17a180786b69acc140d282b71a49"
  },
  "kernelspec": {
   "display_name": "Python 3.9.12 64-bit",
   "language": "python",
   "name": "python3"
  },
  "language_info": {
   "codemirror_mode": {
    "name": "ipython",
    "version": 3
   },
   "file_extension": ".py",
   "mimetype": "text/x-python",
   "name": "python",
   "nbconvert_exporter": "python",
   "pygments_lexer": "ipython3",
   "version": "3.9.12"
  },
  "orig_nbformat": 4
 },
 "nbformat": 4,
 "nbformat_minor": 2
}
