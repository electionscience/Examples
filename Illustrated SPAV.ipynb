{
 "cells": [
  {
   "cell_type": "markdown",
   "metadata": {},
   "source": [
    "# Illustrated Sequential Proportional Approval Voting"
   ]
  },
  {
   "cell_type": "code",
   "execution_count": 205,
   "metadata": {},
   "outputs": [],
   "source": [
    "import pandas\n",
    "import seaborn as sns\n",
    "sns.set_style(\"dark\")\n",
    "%matplotlib inline\n",
    "\n",
    "# Code and setup.\n",
    "ballots = pandas.DataFrame([\n",
    "    {\"Red\": 5, \"Green\": 0, \"Yellow\": 3, \"Blue\": 5},\n",
    "    {\"Red\": 5, \"Green\": 0, \"Yellow\": 0, \"Blue\": 4},\n",
    "    {\"Red\": 0, \"Green\": 5, \"Yellow\": 0, \"Blue\": 1},\n",
    "    {\"Red\": 1, \"Green\": 2, \"Yellow\": 4, \"Blue\": 3},\n",
    "    {\"Red\": 1, \"Green\": 0, \"Yellow\": 2, \"Blue\": 0},\n",
    "    {\"Red\": 1, \"Green\": 3, \"Yellow\": 0, \"Blue\": 1},\n",
    "    {\"Red\": 0, \"Green\": 0, \"Yellow\": 5, \"Blue\": 0},\n",
    "    {\"Red\": 5, \"Green\": 0, \"Yellow\": 0, \"Blue\": 5},\n",
    "])\n",
    "\n",
    "seats = 3\n",
    "seated = []\n",
    "max_satisfaction = ballots.values.max()\n",
    "round_number = 0\n",
    "\n",
    "def plot_ballot(ballot):\n",
    "    ballot.plot(kind='barh', color=ballots.loc[0].index,\n",
    "                title=f\"Ballot 1, Round {round_number}\", xlim=(0, 5))\n",
    "    return None\n",
    "\n",
    "\n",
    "def plot_round_count(round_count):\n",
    "    round_count.plot(kind='bar', color=round_count.index,\n",
    "                     xlabel='Candidate', ylabel='Votes', title=f'Round {round_number} Count')\n",
    "    return None\n",
    "\n",
    "\n",
    "def reweight(ballot: pandas.DataFrame) -> pandas.DataFrame:\n",
    "    satisfaction = ballot[ballot.index.isin(seated)].sum()\n",
    "    weight = 1/(1+satisfaction/max_satisfaction)\n",
    "    # print(f\"This ballot has {votes_for_seated_candidates} votes for a seated candidate.\")\n",
    "    # print(f\"Their ballot weight is now {weight}. \")\n",
    "    # print(f\"The original ballot is: \\n{ballot}\")\n",
    "    # print(f\"The reweighted ballot is: \\n{reweighted}\")\n",
    "    return ballot.apply(lambda x: weight*x)\n",
    "\n",
    "\n",
    "def count(ballots):\n",
    "    return ballots.sum().drop(seated).sort_values(ascending=False)\n",
    "\n",
    "\n",
    "def nextRound(ballots):\n",
    "    global round_number\n",
    "    round_number = round_number + 1\n",
    "    ballots = ballots.apply(reweight, axis=1)\n",
    "    round_count = count(ballots)\n",
    "    seated.append(round_count.idxmax())\n",
    "    return ballots, round_count\n"
   ]
  },
  {
   "cell_type": "markdown",
   "metadata": {},
   "source": [
    "# Round 1\n",
    "\n",
    "In round one we only need to count the candidate with the highest votes and then seat that them. In this case it's Blue."
   ]
  },
  {
   "cell_type": "code",
   "execution_count": 206,
   "metadata": {},
   "outputs": [],
   "source": [
    "ballots, round_count = nextRound(ballots)"
   ]
  },
  {
   "cell_type": "code",
   "execution_count": 207,
   "metadata": {},
   "outputs": [
    {
     "name": "stdout",
     "output_type": "stream",
     "text": [
      "Blue      19.0\n",
      "Red       18.0\n",
      "Yellow    14.0\n",
      "Green     10.0\n",
      "dtype: float64\n",
      "Seated: ['Blue']\n"
     ]
    },
    {
     "data": {
      "image/png": "[encoded data removed]",
      "text/plain": [
       "<Figure size 432x288 with 1 Axes>"
      ]
     },
     "metadata": {
      "needs_background": "light"
     },
     "output_type": "display_data"
    }
   ],
   "source": [
    "print(round_count)\n",
    "print(f\"Seated: {seated }\")\n",
    "plot_round_count(round_count)\n"
   ]
  },
  {
   "cell_type": "code",
   "execution_count": 208,
   "metadata": {},
   "outputs": [
    {
     "data": {
      "image/png": "[encoded data removed]",
      "text/plain": [
       "<Figure size 432x288 with 1 Axes>"
      ]
     },
     "metadata": {
      "needs_background": "light"
     },
     "output_type": "display_data"
    }
   ],
   "source": [
    "plot_ballot(ballots.loc[0])"
   ]
  },
  {
   "cell_type": "markdown",
   "metadata": {},
   "source": [
    "# Round 2\n",
    "\n",
    "In round two we reweight the ballots. Ballot 1 was previously Blue 5, Yellow 3, and Red 5. Now that Blue is seated, this voter's ballot has 5 points of satisfaction. Because of their statisfaction, their votes for other candidates is reduced by $\\frac{1}{(1+\\frac{Satisfaction}{Max Satisfaction})}$ = $\\frac{1}{(1+\\frac{5}{5})}$ = $\\frac{1}{2}$. Their votes for Yellow are now worth 1.5 and Red 2.5."
   ]
  },
  {
   "cell_type": "code",
   "execution_count": 209,
   "metadata": {},
   "outputs": [],
   "source": [
    "ballots, round_count = nextRound(ballots)\n"
   ]
  },
  {
   "cell_type": "code",
   "execution_count": 210,
   "metadata": {},
   "outputs": [
    {
     "data": {
      "image/png": "[encoded data removed]",
      "text/plain": [
       "<Figure size 432x288 with 1 Axes>"
      ]
     },
     "metadata": {
      "needs_background": "light"
     },
     "output_type": "display_data"
    }
   ],
   "source": [
    "plot_ballot(ballots.loc[0])"
   ]
  },
  {
   "cell_type": "markdown",
   "metadata": {},
   "source": [
    "Because a lot of votes for Red were correlated with vote for Blue, Red, despite being in 2nd place in Round 1, doesn't have the highest score in Round 2. Yellow has the highest score of 11, and is seated."
   ]
  },
  {
   "cell_type": "code",
   "execution_count": 211,
   "metadata": {},
   "outputs": [
    {
     "name": "stdout",
     "output_type": "stream",
     "text": [
      "Yellow    11.000000\n",
      "Red       10.236111\n",
      "Green      7.916667\n",
      "dtype: float64\n",
      "Seated: ['Blue', 'Yellow']\n"
     ]
    },
    {
     "data": {
      "image/png": "[encoded data removed]",
      "text/plain": [
       "<Figure size 432x288 with 1 Axes>"
      ]
     },
     "metadata": {
      "needs_background": "light"
     },
     "output_type": "display_data"
    }
   ],
   "source": [
    "plot_round_count(round_count)\n",
    "print(round_count)\n",
    "print(f\"Seated: {seated }\")"
   ]
  },
  {
   "cell_type": "markdown",
   "metadata": {},
   "source": [
    "# Round 3\n",
    "\n",
    "In round 3 Green catches up but isn't able to overcome Red's lead."
   ]
  },
  {
   "cell_type": "code",
   "execution_count": 212,
   "metadata": {},
   "outputs": [
    {
     "name": "stdout",
     "output_type": "stream",
     "text": [
      "Red      6.740537\n",
      "Green    6.380952\n",
      "dtype: float64\n",
      "Seated: ['Blue', 'Yellow', 'Red']\n"
     ]
    },
    {
     "data": {
      "image/png": "[encoded data removed]",
      "text/plain": [
       "<Figure size 432x288 with 1 Axes>"
      ]
     },
     "metadata": {
      "needs_background": "light"
     },
     "output_type": "display_data"
    }
   ],
   "source": [
    "ballots, round_count = nextRound(ballots)\n",
    "plot_round_count(round_count)\n",
    "print(round_count)\n",
    "print(f\"Seated: {seated }\")"
   ]
  },
  {
   "cell_type": "code",
   "execution_count": 213,
   "metadata": {},
   "outputs": [
    {
     "data": {
      "image/png": "[encoded data removed]",
      "text/plain": [
       "<Figure size 432x288 with 1 Axes>"
      ]
     },
     "metadata": {
      "needs_background": "light"
     },
     "output_type": "display_data"
    }
   ],
   "source": [
    "plot_ballot(ballots.loc[0])"
   ]
  }
 ],
 "metadata": {
  "interpreter": {
   "hash": "aee8b7b246df8f9039afb4144a1f6fd8d2ca17a180786b69acc140d282b71a49"
  },
  "kernelspec": {
   "display_name": "Python 3.9.12 64-bit",
   "language": "python",
   "name": "python3"
  },
  "language_info": {
   "codemirror_mode": {
    "name": "ipython",
    "version": 3
   },
   "file_extension": ".py",
   "mimetype": "text/x-python",
   "name": "python",
   "nbconvert_exporter": "python",
   "pygments_lexer": "ipython3",
   "version": "3.9.12"
  },
  "orig_nbformat": 4
 },
 "nbformat": 4,
 "nbformat_minor": 2
}
