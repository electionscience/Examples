{
 "cells": [
  {
   "cell_type": "markdown",
   "metadata": {},
   "source": [
    "# Illustrated Sequential Proportional Approval Voting"
   ]
  },
  {
   "cell_type": "markdown",
   "metadata": {},
   "source": [
    "Plantsville is getting ready for a city council election, and this year they’ve switched to Proportional Representation.\n",
    "\n",
    "Last year plantsville had an at large election, but Fruit didn’t get any representation, despite being one third of the population! \n",
    "That’s because Vegetables are two thirds of the population, and each vegetable candidate had more votes than each fruit candidate, so the board is all vegetables! \n",
    "\n",
    "> Show a council filled with vegetables, with fruit voters upset off to the side.\n",
    "\n",
    "This year Plantsville is moving to Proportional Approval Voting. \n",
    "Proportional voting means each group of voters receives their fair share of seats on the city council. \n",
    "\n",
    "Here’s how Proportional Approval Voting works:\n",
    "\n",
    "> Show three seats and six candidates. Two parties, fruit 🍉 , vegetables 🥦. Candidates: Squash, Potato, Broccoli, Blueberry, Strawberry, Banana\n",
    "\n",
    "When you vote, voters pick all the candidates they approve. \n",
    "\n",
    "> Show existing Approval Voting Ballot explainer from previous Plantsville Video\n",
    "\n",
    "The votes are in, and Broccoli has the most votes, and wins the first seat on the council. \n",
    "\n",
    "> Bar graph of votes with candidate image under it, on left is Broccoli who has the most votes. Broccoli will move up into the seats on top, and a shadow of their votes is left behind. \n",
    "\n",
    "The voters for Broccoli now have representation on the board. For the next round, voters with less representation have their weight relatively increased. For the second seat, all the voters who didn’t vote for Broccoli now have twice as much voting power relative to voters for Broccoli, to ensure that they get a fair chance to elect a candidate. \n",
    "\n",
    "> Show a transition from Round 1 to Round 2 vote counts, with a video game effect of the votes going from the bar to Broccoli like she's \"winning\" points and getting elected, but it consumes votes. The votes for the Vegetables shrink until it becomes equal to Round 2's image. On \"The votes are recalculated\" re-sort the graph so that Blueberry is the first because she has the most votes.\n",
    "\n",
    "The votes are recalculated, and Blueberry wins the second seat, and blueberry voters also have their voting power adjusted. \n",
    "The process continues until all seats are filled. \n",
    "\n",
    "Now every group has fair representation, and democracy is restored.\n",
    "\n",
    "> Endcard. \n",
    "\n",
    "Learn more about proportional approval voting, and the center for election science at our website, electionscience.org\n",
    "\n"
   ]
  },
  {
   "cell_type": "code",
   "execution_count": 2,
   "metadata": {},
   "outputs": [],
   "source": [
    "import pandas as pd\n",
    "from ballot_generator import generate_approval_ballots\n",
    "from methods import SPAV\n",
    "\n",
    "ballots = generate_approval_ballots()\n",
    "# Code and setup.\n",
    "\n",
    "\n",
    "def SPAV(ballots, seats: int):\n",
    "    \"\"\"Sequential Proportional Approvla Voting\n",
    "    This system converts Approval Voting into a multi-round rule,\n",
    "    selecting a candidate in each round and then reweighing the\n",
    "    approvals for the subsequent rounds. The first candidate elected\n",
    "    is the Approval winner (w1). The value of all ballots that\n",
    "    approve of w1 are reduced in value from 1 to 1/2 and the\n",
    "    approval scores recalculated. Next, the unelected candidate\n",
    "    who has the highest approval score is elected (w2).\n",
    "    Then the value of ballots that approve of both w1 and w2\n",
    "    are reduced in value to 1/3, and the value of all ballots\n",
    "    that approve of either w1 or w2 but not both are reduced in value to 1/2.\n",
    "    \"\"\"\n",
    "    df = pd.DataFrame(ballots)\n",
    "    seated = []\n",
    "    while len(seated) < seats:\n",
    "        weight = 1 / (1 + df[seated].sum(axis=1))\n",
    "        remaining = df.drop(seated, axis=1).mul(weight, axis=0)\n",
    "        seated.append(remaining.sum().idxmax())\n",
    "    return remaining, seated\n",
    "\n",
    "\n",
    "def plot_round_count(ballots, round):\n",
    "    candidate_colors = [\"red\", \"green\", \"yellow\", \"blue\", \"orange\", \"purple\"]\n",
    "    colors = dict(zip(ballots.sort_index().columns, candidate_colors))\n",
    "    print(colors)\n",
    "    ax = ballots.sum().plot(\n",
    "        kind=\"bar\",\n",
    "        linewidth=1,\n",
    "        ylim=(0, len(ballots)),\n",
    "        xlabel=\"Candidate\",\n",
    "        ylabel=\"Votes\",\n",
    "        color=candidate_colors,\n",
    "        title=f\"Round {round} Count\",\n",
    "        rot=30,\n",
    "    )\n",
    "    ax.bar_label(ax.containers[0])\n",
    "\n",
    "\n",
    "def plotRounds(ballots):\n",
    "    pd.DataFrame(\n",
    "        {\n",
    "            \"Round 1\": SPAV(ballots, 1)[0].sum(),\n",
    "            \"Round 2\": SPAV(ballots, 2)[0].sum(),\n",
    "            \"Round 3\": SPAV(ballots, 3)[0].sum(),\n",
    "        }\n",
    "    ).transpose().plot(kind=\"bar\", title=\"Votes by Round\", rot=30)"
   ]
  },
  {
   "cell_type": "code",
   "execution_count": 3,
   "metadata": {},
   "outputs": [
    {
     "data": {
      "text/plain": [
       "['C', 'B', 'A']"
      ]
     },
     "execution_count": 3,
     "metadata": {},
     "output_type": "execute_result"
    }
   ],
   "source": [
    "# At Large Winners\n",
    "at_large_winners = ballots.sum().nlargest(3).index.to_list()\n",
    "at_large_winners"
   ]
  },
  {
   "cell_type": "markdown",
   "metadata": {},
   "source": [
    "# TL;DR"
   ]
  },
  {
   "cell_type": "code",
   "execution_count": 4,
   "metadata": {},
   "outputs": [
    {
     "data": {
      "image/png": "[encoded data removed]",
      "text/plain": [
       "<Figure size 432x288 with 1 Axes>"
      ]
     },
     "metadata": {
      "needs_background": "light"
     },
     "output_type": "display_data"
    }
   ],
   "source": [
    "plotRounds(ballots)"
   ]
  },
  {
   "cell_type": "markdown",
   "metadata": {},
   "source": [
    "# Round 1\n",
    "\n",
    "In round one we only need to count the candidate with the highest votes and then seat that them. In this case it's Blueberry."
   ]
  },
  {
   "cell_type": "code",
   "execution_count": 5,
   "metadata": {},
   "outputs": [
    {
     "name": "stdout",
     "output_type": "stream",
     "text": [
      "{'A': 'red', 'B': 'green', 'C': 'yellow', 'X': 'blue', 'Y': 'orange', 'Z': 'purple'}\n",
      "Elected: ['C']\n",
      "C    126.0\n",
      "B    122.0\n",
      "A    116.0\n",
      "X     82.0\n",
      "Y     78.0\n",
      "Z     77.0\n",
      "dtype: float64\n"
     ]
    },
    {
     "data": {
      "image/png": "[encoded data removed]",
      "text/plain": [
       "<Figure size 432x288 with 1 Axes>"
      ]
     },
     "metadata": {
      "needs_background": "light"
     },
     "output_type": "display_data"
    }
   ],
   "source": [
    "round_1_ballots, elected = SPAV(ballots, seats=1)\n",
    "plot_round_count(round_1_ballots, 1)\n",
    "print(f\"Elected: {elected }\")\n",
    "print(round_1_ballots.sum().sort_values(ascending=False))"
   ]
  },
  {
   "cell_type": "markdown",
   "metadata": {},
   "source": [
    "# Round 2\n",
    "\n",
    "In round two we reweight the ballots. The biggest group of voters voted in support of Broccoli, Potato and Squash. Now that Broccoli is seated, these voters have $ 1 $ representative. Because they are represented, their votes for other candidates is reduced by the forumula $\\frac{1}{(1+\\frac{representation}{1})}$ which is $\\frac{1}{(1+\\frac{1}{1})}$ equal to $\\frac{1}{2}$. Their votes for Squash and Potato are now each worth $\\frac{1}{2}$."
   ]
  },
  {
   "cell_type": "code",
   "execution_count": 6,
   "metadata": {},
   "outputs": [
    {
     "name": "stdout",
     "output_type": "stream",
     "text": [
      "{'A': 'red', 'B': 'green', 'X': 'yellow', 'Y': 'blue', 'Z': 'orange'}\n",
      "Elected: ['C', 'X']\n",
      "X    78.0\n",
      "Y    76.0\n",
      "Z    75.0\n",
      "B    61.0\n",
      "A    58.0\n",
      "dtype: float64\n"
     ]
    },
    {
     "data": {
      "image/png": "[encoded data removed]",
      "text/plain": [
       "<Figure size 432x288 with 1 Axes>"
      ]
     },
     "metadata": {
      "needs_background": "light"
     },
     "output_type": "display_data"
    }
   ],
   "source": [
    "round_2_ballots, elected = SPAV(ballots, seats=2)\n",
    "plot_round_count(round_2_ballots, 2)\n",
    "print(f\"Elected: {elected }\")\n",
    "print(round_2_ballots.sum().sort_values(ascending=False))"
   ]
  },
  {
   "cell_type": "markdown",
   "metadata": {},
   "source": [
    "# Round 3\n",
    "\n",
    "In round 3 the votes for fruit candidates are reweighted and Vegetable candidates are able to get another seat. Vegetable candidates have $ \\frac{2}{3} $ of the population, and how have $ \\frac{2}{3} $ of the Plantsville City Council Seats. Fruit voters are happy now that they have fair representation on the city council, and democracy is restored."
   ]
  },
  {
   "cell_type": "markdown",
   "metadata": {},
   "source": []
  },
  {
   "cell_type": "code",
   "execution_count": 7,
   "metadata": {},
   "outputs": [
    {
     "name": "stdout",
     "output_type": "stream",
     "text": [
      "{'A': 'red', 'B': 'green', 'Y': 'yellow', 'Z': 'blue'}\n",
      "['C', 'X', 'B']\n"
     ]
    },
    {
     "data": {
      "image/png": "[encoded data removed]",
      "text/plain": [
       "<Figure size 432x288 with 1 Axes>"
      ]
     },
     "metadata": {
      "needs_background": "light"
     },
     "output_type": "display_data"
    }
   ],
   "source": [
    "round_3_ballots, elected = SPAV(ballots, seats=3)\n",
    "plot_round_count(round_3_ballots, 3)\n",
    "print(elected)"
   ]
  }
 ],
 "metadata": {
  "interpreter": {
   "hash": "aee8b7b246df8f9039afb4144a1f6fd8d2ca17a180786b69acc140d282b71a49"
  },
  "kernelspec": {
   "display_name": "Python 3.9.12 64-bit",
   "language": "python",
   "name": "python3"
  },
  "language_info": {
   "codemirror_mode": {
    "name": "ipython",
    "version": 3
   },
   "file_extension": ".py",
   "mimetype": "text/x-python",
   "name": "python",
   "nbconvert_exporter": "python",
   "pygments_lexer": "ipython3",
   "version": "3.9.12"
  },
  "orig_nbformat": 4
 },
 "nbformat": 4,
 "nbformat_minor": 2
}
