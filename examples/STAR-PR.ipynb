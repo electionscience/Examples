{
 "cells": [
  {
   "cell_type": "code",
   "execution_count": 1,
   "metadata": {},
   "outputs": [],
   "source": [
    "import pandas as pd\n",
    "import numpy as np\n",
    "from methods import Allocated_Score"
   ]
  },
  {
   "cell_type": "code",
   "execution_count": 3,
   "metadata": {},
   "outputs": [
    {
     "data": {
      "text/plain": [
       "['🥦', '🫐', '🥔']"
      ]
     },
     "execution_count": 3,
     "metadata": {},
     "output_type": "execute_result"
    }
   ],
   "source": [
    "import itertools\n",
    "\n",
    "# Compose Ballots\n",
    "# candidates = ['Squash', 'Potato',  'Broccoli', 'Blueberry', 'Strawberry', 'Banana']\n",
    "candidates = [\"🥕\", \"🥔\", \"🥦\", \"🫐\", \"🍓\", \"🍌\"]\n",
    "\n",
    "ballot1 = {\n",
    "    candidates[0]: 5,\n",
    "    candidates[1]: 5,\n",
    "    candidates[2]: 5,\n",
    "    candidates[3]: 0,\n",
    "    candidates[4]: 0,\n",
    "    candidates[5]: 0,\n",
    "}\n",
    "ballot2 = {\n",
    "    candidates[0]: 3,\n",
    "    candidates[1]: 5,\n",
    "    candidates[2]: 5,\n",
    "    candidates[3]: 2,\n",
    "    candidates[4]: 2,\n",
    "    candidates[5]: 2,\n",
    "}\n",
    "ballot3 = {\n",
    "    candidates[0]: 5,\n",
    "    candidates[1]: 5,\n",
    "    candidates[2]: 5,\n",
    "    candidates[3]: 5,\n",
    "    candidates[4]: 0,\n",
    "    candidates[5]: 0,\n",
    "}\n",
    "ballot4 = {\n",
    "    candidates[0]: 0,\n",
    "    candidates[1]: 0,\n",
    "    candidates[2]: 0,\n",
    "    candidates[3]: 5,\n",
    "    candidates[4]: 5,\n",
    "    candidates[5]: 4,\n",
    "}\n",
    "ballot5 = {\n",
    "    candidates[0]: 0,\n",
    "    candidates[1]: 0,\n",
    "    candidates[2]: 4,\n",
    "    candidates[3]: 5,\n",
    "    candidates[4]: 5,\n",
    "    candidates[5]: 5,\n",
    "}\n",
    "ballot6 = {\n",
    "    candidates[0]: 0,\n",
    "    candidates[1]: 0,\n",
    "    candidates[2]: 0,\n",
    "    candidates[3]: 5,\n",
    "    candidates[4]: 5,\n",
    "    candidates[5]: 3,\n",
    "}\n",
    "\n",
    "ballots = (\n",
    "    list(itertools.repeat(ballot1, 112))\n",
    "    + list(itertools.repeat(ballot2, 6))\n",
    "    + list(itertools.repeat(ballot3, 4))\n",
    "    + list(itertools.repeat(ballot4, 73))\n",
    "    + list(itertools.repeat(ballot5, 4))\n",
    "    + list(itertools.repeat(ballot6, 1))\n",
    ")\n",
    "ballots = pd.DataFrame(ballots)\n",
    "\n",
    "K = 5  # Max Score\n",
    "W = 3  # Seats\n",
    "S = ballots\n",
    "\n",
    "Allocated_Score(K, W, S)"
   ]
  }
 ],
 "metadata": {
  "interpreter": {
   "hash": "21edde91e70af9c3e61fc386ff12baf5c56558c3477f74bec645335fbb796e13"
  },
  "kernelspec": {
   "display_name": "Python 3.9.12 ('Examples-Eq8sFO6E')",
   "language": "python",
   "name": "python3"
  },
  "language_info": {
   "codemirror_mode": {
    "name": "ipython",
    "version": 3
   },
   "file_extension": ".py",
   "mimetype": "text/x-python",
   "name": "python",
   "nbconvert_exporter": "python",
   "pygments_lexer": "ipython3",
   "version": "3.9.12"
  },
  "orig_nbformat": 4
 },
 "nbformat": 4,
 "nbformat_minor": 2
}
