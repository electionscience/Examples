{
 "cells": [
  {
   "cell_type": "code",
   "execution_count": 1,
   "metadata": {},
   "outputs": [],
   "source": [
    "import pandas as pd\n",
    "import numpy as np\n",
    "\n",
    "def Allocated_Score(K, W, S):\n",
    "\n",
    "    #Normalize score matrix\n",
    "    ballots = pd.DataFrame(S.values/K, columns=S.columns)\n",
    "    \n",
    "    #Find number of voters and quota size\n",
    "    V = ballots.shape[0]\n",
    "    quota = V/W\n",
    "    ballot_weight = pd.Series(np.ones(V),name='weights')\n",
    "    \n",
    "    #Populate winners in a loop\n",
    "    winner_list = []\n",
    "    while len(winner_list) < W:\n",
    "\n",
    "        weighted_scores = ballots.multiply(ballot_weight, axis=\"index\")\n",
    "\n",
    "        #Select winner\n",
    "        w = weighted_scores.sum().idxmax()\n",
    "    \n",
    "        #Add winner to list\n",
    "        winner_list.append(w)\n",
    "\n",
    "        #remove winner from ballot\n",
    "        ballots.drop(w, axis=1, inplace=True)\n",
    "    \n",
    "        #Create lists for manipulation\n",
    "        cand_df = pd.concat([ballot_weight,weighted_scores[w]], axis=1).copy() \n",
    "        cand_df_sort = cand_df.sort_values(by=[w], ascending=False).copy()  \n",
    "        \n",
    "        #find the score where a quota is filled\n",
    "        split_point = cand_df_sort[cand_df_sort['weights'].cumsum() < quota][w].min()\n",
    "    \n",
    "        #Amount of ballot for voters who voted more than the split point\n",
    "        spent_above = cand_df[cand_df[w] > split_point]['weights'].sum()\n",
    "        \n",
    "        #Allocate all ballots above split point\n",
    "        if spent_above>0:    \n",
    "            cand_df.loc[cand_df[w] > split_point, 'weights'] = 0.0\n",
    "    \n",
    "        #Amount of ballot for voters who gave a score on the split point\n",
    "        weight_on_split = cand_df[cand_df[w] == split_point]['weights'].sum()\n",
    "\n",
    "        #Fraction of ballot on split needed to be spent\n",
    "        if weight_on_split>0:     \n",
    "            spent_value = (quota - spent_above)/weight_on_split\n",
    "    \n",
    "            #Take the spent value from the voters on the threshold evenly\n",
    "            cand_df.loc[cand_df[w] == split_point, 'weights'] = cand_df.loc[cand_df[w] == split_point, 'weights'] * (1 - spent_value)\n",
    "    \n",
    "        ballot_weight = cand_df['weights'].clip(0.0,1.0)\n",
    "\n",
    "    return winner_list"
   ]
  }
 ],
 "metadata": {
  "interpreter": {
   "hash": "21edde91e70af9c3e61fc386ff12baf5c56558c3477f74bec645335fbb796e13"
  },
  "kernelspec": {
   "display_name": "Python 3.9.12 ('Examples-Eq8sFO6E')",
   "language": "python",
   "name": "python3"
  },
  "language_info": {
   "codemirror_mode": {
    "name": "ipython",
    "version": 3
   },
   "file_extension": ".py",
   "mimetype": "text/x-python",
   "name": "python",
   "nbconvert_exporter": "python",
   "pygments_lexer": "ipython3",
   "version": "3.9.12"
  },
  "orig_nbformat": 4
 },
 "nbformat": 4,
 "nbformat_minor": 2
}
