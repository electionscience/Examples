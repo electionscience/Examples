{
 "cells": [
  {
   "cell_type": "code",
   "execution_count": 1,
   "metadata": {},
   "outputs": [],
   "source": [
    "import pandas as pd\n",
    "import numpy as np\n",
    "from methods import Allocated_Score"
   ]
  },
  {
   "cell_type": "code",
   "execution_count": 3,
   "metadata": {},
   "outputs": [
    {
     "data": {
      "text/plain": [
       "['Broccoli', 'Blueberry', 'Potato']"
      ]
     },
     "execution_count": 3,
     "metadata": {},
     "output_type": "execute_result"
    }
   ],
   "source": [
    "from ballot_generator import generate_score_ballots\n",
    "from methods import Allocated_Score\n",
    "\n",
    "ballots = generate_score_ballots()\n",
    "\n",
    "K = 5  # Max Score\n",
    "W = 3  # Seats\n",
    "S = ballots\n",
    "\n",
    "Allocated_Score(K, W, S)"
   ]
  }
 ],
 "metadata": {
  "interpreter": {
   "hash": "21edde91e70af9c3e61fc386ff12baf5c56558c3477f74bec645335fbb796e13"
  },
  "kernelspec": {
   "display_name": "Python 3.9.12 ('Examples-Eq8sFO6E')",
   "language": "python",
   "name": "python3"
  },
  "language_info": {
   "codemirror_mode": {
    "name": "ipython",
    "version": 3
   },
   "file_extension": ".py",
   "mimetype": "text/x-python",
   "name": "python",
   "nbconvert_exporter": "python",
   "pygments_lexer": "ipython3",
   "version": "3.9.12"
  },
  "orig_nbformat": 4
 },
 "nbformat": 4,
 "nbformat_minor": 2
}
