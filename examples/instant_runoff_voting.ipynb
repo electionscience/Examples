{
 "cells": [
  {
   "cell_type": "code",
   "execution_count": null,
   "metadata": {},
   "outputs": [],
   "source": [
    "# Instant Runoff Voting\n",
    "import pandas\n",
    "\n",
    "# Ranking a scored ballot because ranked ballots are bad, and annoying to compose.\n",
    "ballots = [\n",
    "  {\"Red\": 5, \"Green\": 0, \"Yellow\": 3, \"Blue\": 4},\n",
    "  {\"Red\": 5, \"Green\": 0, \"Yellow\": 1, \"Blue\": 4},\n",
    "  {\"Red\": 0, \"Green\": 5, \"Yellow\": 0, \"Blue\": 1},\n",
    "  {\"Red\": 1, \"Green\": 2, \"Yellow\": 4, \"Blue\": 3}, \n",
    "  {\"Red\": 1, \"Green\": 0, \"Yellow\": 2, \"Blue\": 0},  \n",
    "  {\"Red\": 1, \"Green\": 3, \"Yellow\": 0, \"Blue\": 1},\n",
    "  {\"Red\": 0, \"Green\": 0, \"Yellow\": 5, \"Blue\": 0},\n",
    "  {\"Red\": 5, \"Green\": 0, \"Yellow\": 0, \"Blue\": 4},\n",
    "]\n",
    "\n",
    "ballots = pandas.DataFrame(ballots)\n",
    "\n",
    "def nextRound(ballots):\n",
    "    # get highest rated candidate from each row, count the number of times it occurs\n",
    "    round_count = pandas.DataFrame(ballots).apply(lambda x: x.idxmax(), axis=1).value_counts()\n",
    "    print(round_count)\n",
    "    # find the lowest count\n",
    "    eliminated = round_count.idxmin()\n",
    "    print(f\"{eliminated =}\")\n",
    "    # remove the eliminated candidates from the ballots\n",
    "    ballots.drop(eliminated, axis=1, inplace=True)\n",
    "    return ballots\n",
    "\n",
    "while len(ballots.columns) > 1:\n",
    "    nextRound(ballots)\n",
    "f'Winner: {ballots.columns[0]}'\n"
   ]
  }
 ],
 "metadata": {
  "language_info": {
   "name": "python"
  },
  "orig_nbformat": 4
 },
 "nbformat": 4,
 "nbformat_minor": 2
}
