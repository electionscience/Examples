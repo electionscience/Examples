{
 "cells": [
  {
   "cell_type": "code",
   "execution_count": 2,
   "metadata": {},
   "outputs": [
    {
     "name": "stdout",
     "output_type": "stream",
     "text": [
      "['D', 'F', 'B']\n"
     ]
    }
   ],
   "source": [
    "import numpy as np\n",
    "import pandas as pd\n",
    "from methods import STV\n",
    "from ballot_generator import generate_ranked_ballots\n",
    "\n",
    "ballots = generate_ranked_ballots()\n",
    "seats = 3\n",
    "ballots = pd.DataFrame(ballots)\n",
    "quota = 1 + np.floor(len(ballots) / (seats + 1))\n",
    "\n",
    "print(STV(ballots, seats, quota))"
   ]
  }
 ],
 "metadata": {
  "interpreter": {
   "hash": "21edde91e70af9c3e61fc386ff12baf5c56558c3477f74bec645335fbb796e13"
  },
  "kernelspec": {
   "display_name": "Python 3.9.12 ('Examples-Eq8sFO6E')",
   "language": "python",
   "name": "python3"
  },
  "language_info": {
   "codemirror_mode": {
    "name": "ipython",
    "version": 3
   },
   "file_extension": ".py",
   "mimetype": "text/x-python",
   "name": "python",
   "nbconvert_exporter": "python",
   "pygments_lexer": "ipython3",
   "version": "3.9.12"
  },
  "orig_nbformat": 4
 },
 "nbformat": 4,
 "nbformat_minor": 2
}
