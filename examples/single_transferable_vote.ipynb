{
 "cells": [
  {
   "cell_type": "code",
   "execution_count": 3,
   "metadata": {},
   "outputs": [
    {
     "ename": "ImportError",
     "evalue": "cannot import name 'generate_ranked_ballots' from 'ballot_generator' (/Users/felix/src/electionscience/Examples/examples/ballot_generator.py)",
     "output_type": "error",
     "traceback": [
      "\u001b[0;31m---------------------------------------------------------------------------\u001b[0m",
      "\u001b[0;31mImportError\u001b[0m                               Traceback (most recent call last)",
      "\u001b[1;32m/Users/felix/src/electionscience/Examples/examples/single_transferable_vote.ipynb Cell 1'\u001b[0m in \u001b[0;36m<cell line: 4>\u001b[0;34m()\u001b[0m\n\u001b[1;32m      <a href='vscode-notebook-cell:/Users/felix/src/electionscience/Examples/examples/single_transferable_vote.ipynb#ch0000000?line=1'>2</a>\u001b[0m \u001b[39mimport\u001b[39;00m \u001b[39mpandas\u001b[39;00m \u001b[39mas\u001b[39;00m \u001b[39mpd\u001b[39;00m\n\u001b[1;32m      <a href='vscode-notebook-cell:/Users/felix/src/electionscience/Examples/examples/single_transferable_vote.ipynb#ch0000000?line=2'>3</a>\u001b[0m \u001b[39mfrom\u001b[39;00m \u001b[39mmethods\u001b[39;00m \u001b[39mimport\u001b[39;00m STV\n\u001b[0;32m----> <a href='vscode-notebook-cell:/Users/felix/src/electionscience/Examples/examples/single_transferable_vote.ipynb#ch0000000?line=3'>4</a>\u001b[0m \u001b[39mfrom\u001b[39;00m \u001b[39mballot_generator\u001b[39;00m \u001b[39mimport\u001b[39;00m generate_ranked_ballots\n\u001b[1;32m      <a href='vscode-notebook-cell:/Users/felix/src/electionscience/Examples/examples/single_transferable_vote.ipynb#ch0000000?line=5'>6</a>\u001b[0m ballots \u001b[39m=\u001b[39m generate_ranked_ballots()\n\u001b[1;32m      <a href='vscode-notebook-cell:/Users/felix/src/electionscience/Examples/examples/single_transferable_vote.ipynb#ch0000000?line=6'>7</a>\u001b[0m seats \u001b[39m=\u001b[39m \u001b[39m3\u001b[39m\n",
      "\u001b[0;31mImportError\u001b[0m: cannot import name 'generate_ranked_ballots' from 'ballot_generator' (/Users/felix/src/electionscience/Examples/examples/ballot_generator.py)"
     ]
    }
   ],
   "source": [
    "import numpy as np\n",
    "import pandas as pd\n",
    "from methods import STV\n",
    "from ballot_generator import generate_ranked_ballots\n",
    "\n",
    "ballots = generate_ranked_ballots()\n",
    "seats = 3\n",
    "ballots = pd.DataFrame(ballots)\n",
    "quota = 1 + np.floor(len(ballots) / (seats + 1))\n",
    "\n",
    "print(STV(ballots, seats, quota))"
   ]
  }
 ],
 "metadata": {
  "interpreter": {
   "hash": "21edde91e70af9c3e61fc386ff12baf5c56558c3477f74bec645335fbb796e13"
  },
  "kernelspec": {
   "display_name": "Python 3.9.12 ('Examples-Eq8sFO6E')",
   "language": "python",
   "name": "python3"
  },
  "language_info": {
   "codemirror_mode": {
    "name": "ipython",
    "version": 3
   },
   "file_extension": ".py",
   "mimetype": "text/x-python",
   "name": "python",
   "nbconvert_exporter": "python",
   "pygments_lexer": "ipython3",
   "version": "3.9.12"
  },
  "orig_nbformat": 4
 },
 "nbformat": 4,
 "nbformat_minor": 2
}
