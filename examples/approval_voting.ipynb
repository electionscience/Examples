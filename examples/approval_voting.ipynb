{
 "cells": [
  {
   "cell_type": "code",
   "execution_count": 8,
   "metadata": {},
   "outputs": [
    {
     "name": "stdout",
     "output_type": "stream",
     "text": [
      "Red       6\n",
      "Green     4\n",
      "Yellow    3\n",
      "Blue      8\n",
      "dtype: int64\n",
      "\n",
      "Blue wins\n"
     ]
    },
    {
     "data": {
      "text/plain": [
       "<AxesSubplot:xlabel='Candidate', ylabel='Votes'>"
      ]
     },
     "execution_count": 8,
     "metadata": {},
     "output_type": "execute_result"
    },
    {
     "data": {
      "image/png": "[encoded data removed]",
      "text/plain": [
       "<Figure size 432x288 with 1 Axes>"
      ]
     },
     "metadata": {
      "needs_background": "light"
     },
     "output_type": "display_data"
    }
   ],
   "source": [
    "import pandas\n",
    "\n",
    "ballots = [\n",
    "    {\"Red\": 1, \"Green\": 0, \"Yellow\": 0, \"Blue\": 1},\n",
    "    {\"Red\": 0, \"Green\": 1, \"Yellow\": 0, \"Blue\": 1},\n",
    "    {\"Red\": 1, \"Green\": 0, \"Yellow\": 1, \"Blue\": 0},\n",
    "    {\"Red\": 1, \"Green\": 0, \"Yellow\": 1, \"Blue\": 1},\n",
    "    {\"Red\": 0, \"Green\": 1, \"Yellow\": 0, \"Blue\": 1},\n",
    "    {\"Red\": 1, \"Green\": 0, \"Yellow\": 1, \"Blue\": 1},\n",
    "    {\"Red\": 1, \"Green\": 1, \"Yellow\": 0, \"Blue\": 1},\n",
    "    {\"Red\": 0, \"Green\": 1, \"Yellow\": 0, \"Blue\": 1},\n",
    "    {\"Red\": 1, \"Green\": 0, \"Yellow\": 0, \"Blue\": 1},\n",
    "]\n",
    "print(pandas.DataFrame(ballots).sum())\n",
    "print(f\"\\n{pandas.DataFrame(ballots).sum().idxmax()} wins\")\n",
    "\n",
    "pandas.DataFrame(ballots).sum().sort_values(ascending=False).plot(\n",
    "    kind=\"bar\",\n",
    "    stacked=True,\n",
    "    edgecolor=\"white\",\n",
    "    linewidth=1,\n",
    "    xlabel=\"Candidate\",\n",
    "    ylabel=\"Votes\",\n",
    ")"
   ]
  }
 ],
 "metadata": {
  "interpreter": {
   "hash": "21edde91e70af9c3e61fc386ff12baf5c56558c3477f74bec645335fbb796e13"
  },
  "kernelspec": {
   "display_name": "Python 3.9.12 ('Examples-Eq8sFO6E')",
   "language": "python",
   "name": "python3"
  },
  "language_info": {
   "codemirror_mode": {
    "name": "ipython",
    "version": 3
   },
   "file_extension": ".py",
   "mimetype": "text/x-python",
   "name": "python",
   "nbconvert_exporter": "python",
   "pygments_lexer": "ipython3",
   "version": "3.9.12"
  },
  "orig_nbformat": 4
 },
 "nbformat": 4,
 "nbformat_minor": 2
}
